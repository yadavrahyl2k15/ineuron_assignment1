{
  "nbformat": 4,
  "nbformat_minor": 0,
  "metadata": {
    "colab": {
      "name": "Assignment_3.ipynb",
      "provenance": [],
      "authorship_tag": "ABX9TyOfNws14TFrpwcj92MgSc+j",
      "include_colab_link": true
    },
    "kernelspec": {
      "name": "python3",
      "display_name": "Python 3"
    },
    "language_info": {
      "name": "python"
    }
  },
  "cells": [
    {
      "cell_type": "markdown",
      "metadata": {
        "id": "view-in-github",
        "colab_type": "text"
      },
      "source": [
        "<a href=\"https://colab.research.google.com/github/yadavrahyl2k15/ineuron_assignments/blob/main/Assignment_3.ipynb\" target=\"_parent\"><img src=\"https://colab.research.google.com/assets/colab-badge.svg\" alt=\"Open In Colab\"/></a>"
      ]
    },
    {
      "cell_type": "markdown",
      "metadata": {
        "id": "9RB0GNpOXvav"
      },
      "source": [
        "**1.1 Write a Python Program to implement your own myreduce() function which works exactly like Python's built-in function reduce()?**"
      ]
    },
    {
      "cell_type": "code",
      "metadata": {
        "colab": {
          "base_uri": "https://localhost:8080/"
        },
        "id": "8-UG-Wekv2F9",
        "outputId": "7cbb3648-dc0e-458b-fda0-a1e26be890b1"
      },
      "source": [
        "def myreduce(num):\n",
        "  num_list=list(range(1,(number+1)))\n",
        "  sum_of_num_list=0\n",
        "\n",
        "  for i in num_list:\n",
        "    sum_of_num_list+=i\n",
        "  return num_list,sum_of_num_list\n",
        "\n",
        "print(\"Input\")\n",
        "number=int(input(\"enter n natural number:\"))\n",
        "\n",
        "output=myreduce(number)\n",
        "print(\"list of natural number:\",output[0])\n",
        "print(\"sum of n natural number:\",output[1])"
      ],
      "execution_count": 30,
      "outputs": [
        {
          "output_type": "stream",
          "text": [
            "Input\n",
            "enter n natural number:20\n",
            "list of natural number: [1, 2, 3, 4, 5, 6, 7, 8, 9, 10, 11, 12, 13, 14, 15, 16, 17, 18, 19, 20]\n",
            "sum of n natural number: 210\n"
          ],
          "name": "stdout"
        }
      ]
    },
    {
      "cell_type": "markdown",
      "metadata": {
        "id": "OFbO2GrJXkjL"
      },
      "source": [
        "**1.2 Write a Python program to implement your own myfilter() function which works exactly like Python's built-in function filter()?**"
      ]
    },
    {
      "cell_type": "code",
      "metadata": {
        "colab": {
          "base_uri": "https://localhost:8080/"
        },
        "id": "_YqHt6_9zYGZ",
        "outputId": "29752154-a05b-4db5-e24d-69ffe94e417f"
      },
      "source": [
        "def myfilter(num):\n",
        "  num_list=list(range(1,(number+1)))\n",
        "  even_list=[]\n",
        "  odd_list=[]\n",
        "\n",
        "  for i in num_list:\n",
        "    if (i%5==0):\n",
        "      if (i%2==0):\n",
        "        even_list.append(i)\n",
        "      else:\n",
        "        odd_list.append(i)\n",
        "  return num_list,even_list,odd_list\n",
        "\n",
        "\n",
        "print(\"Input\")\n",
        "number=int(input(\"enter a number\"))\n",
        "print(\"Output\")\n",
        "output=myfilter(number)\n",
        "print(\"list of natural numbers\",output[0])\n",
        "print(\"list of even number divsible by 5:\",output[1])\n",
        "print(\"list of odd number divisible by 5:\",output[2])\n",
        "\n"
      ],
      "execution_count": 33,
      "outputs": [
        {
          "output_type": "stream",
          "text": [
            "Input\n",
            "enter a number20\n",
            "Output\n",
            "list of natural numbers [1, 2, 3, 4, 5, 6, 7, 8, 9, 10, 11, 12, 13, 14, 15, 16, 17, 18, 19, 20]\n",
            "list of even number divsible by 5: [10, 20]\n",
            "list of odd number divisible by 5: [5, 15]\n"
          ],
          "name": "stdout"
        }
      ]
    },
    {
      "cell_type": "markdown",
      "metadata": {
        "id": "x6WC0JAuXZkK"
      },
      "source": [
        "**2.Implement List comprehensions to produce the following lists.\n",
        "Write List comprehensions to produce the following Lists?**"
      ]
    },
    {
      "cell_type": "code",
      "metadata": {
        "colab": {
          "base_uri": "https://localhost:8080/"
        },
        "id": "LkB57OyhMC_i",
        "outputId": "59f481bd-0c64-46d7-8e4b-b122a22e3762"
      },
      "source": [
        "word=list(\"xyz\")\n",
        "output_list=[w*n for w in word for n in range(1,5)] \n",
        "print(output_list)\n",
        "\n",
        "word_1=list(\"xyz\")\n",
        "output_list_1=[w*n for n in range(1,4) for w in word_1]\n",
        "print(output_list_1)\n",
        "\n",
        "word_2=[2,3,4]\n",
        "output_list_2=[[w+n] for w in word_2 for n in range(0,3)]\n",
        "print(output_list_2)\n",
        "\n",
        "\n",
        "word_3=[2,3,4,5]\n",
        "output_list_3=[[w+n for n in range(0,4)] for w in word_3]\n",
        "print(output_list_3)\n",
        "\n",
        "word_4=[1,2,3]\n",
        "output_list_4=[(b,a) for a in word_4 for b in word_4]\n",
        "print(output_list_4)"
      ],
      "execution_count": 51,
      "outputs": [
        {
          "output_type": "stream",
          "text": [
            "['x', 'xx', 'xxx', 'xxxx', 'y', 'yy', 'yyy', 'yyyy', 'z', 'zz', 'zzz', 'zzzz']\n",
            "['x', 'y', 'z', 'xx', 'yy', 'zz', 'xxx', 'yyy', 'zzz']\n",
            "[[2], [3], [4], [3], [4], [5], [4], [5], [6]]\n",
            "[[2, 3, 4, 5], [3, 4, 5, 6], [4, 5, 6, 7], [5, 6, 7, 8]]\n",
            "[(1, 1), (2, 1), (3, 1), (1, 2), (2, 2), (3, 2), (1, 3), (2, 3), (3, 3)]\n"
          ],
          "name": "stdout"
        }
      ]
    },
    {
      "cell_type": "code",
      "metadata": {
        "id": "rFPufkP-Ts_J"
      },
      "source": [
        ""
      ],
      "execution_count": null,
      "outputs": []
    }
  ]
}