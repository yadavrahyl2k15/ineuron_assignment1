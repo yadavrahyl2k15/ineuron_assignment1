{
  "nbformat": 4,
  "nbformat_minor": 0,
  "metadata": {
    "colab": {
      "name": "Assignment2.ipynb",
      "provenance": [],
      "authorship_tag": "ABX9TyM5jeNSZ1/qaCUU+2Vpy+mZ",
      "include_colab_link": true
    },
    "kernelspec": {
      "name": "python3",
      "display_name": "Python 3"
    },
    "language_info": {
      "name": "python"
    }
  },
  "cells": [
    {
      "cell_type": "markdown",
      "metadata": {
        "id": "view-in-github",
        "colab_type": "text"
      },
      "source": [
        "<a href=\"https://colab.research.google.com/github/yadavrahyl2k15/ineuron_assignments/blob/main/Assignment2.ipynb\" target=\"_parent\"><img src=\"https://colab.research.google.com/assets/colab-badge.svg\" alt=\"Open In Colab\"/></a>"
      ]
    },
    {
      "cell_type": "markdown",
      "metadata": {
        "id": "CBIHqkUodnBp"
      },
      "source": [
        "**Q1.1. Create the below pattern using nested for loop in Python?**"
      ]
    },
    {
      "cell_type": "code",
      "metadata": {
        "colab": {
          "base_uri": "https://localhost:8080/"
        },
        "id": "SGu2Y-j9OZL7",
        "outputId": "8ddeae65-6d47-43bd-fd91-f1a0bdb8ee1c"
      },
      "source": [
        "for i in range(1,6):\n",
        "  for j in range(0,i):\n",
        "    print(\"*\",end=\"\")\n",
        "  print(\" \") \n",
        "i=4\n",
        "while(i > 0):\n",
        "    j = i\n",
        "    while(j > 0):      \n",
        "        print('*', end = '')\n",
        "        j = j - 1\n",
        "    i = i - 1\n",
        "    print()\n"
      ],
      "execution_count": 33,
      "outputs": [
        {
          "output_type": "stream",
          "text": [
            "* \n",
            "** \n",
            "*** \n",
            "**** \n",
            "***** \n",
            "****\n",
            "***\n",
            "**\n",
            "*\n"
          ],
          "name": "stdout"
        }
      ]
    },
    {
      "cell_type": "markdown",
      "metadata": {
        "id": "wBFzI_SRduy8"
      },
      "source": [
        "**Q2.Write a Python program to reverse a word after accepting the input from the user?**"
      ]
    },
    {
      "cell_type": "code",
      "metadata": {
        "colab": {
          "base_uri": "https://localhost:8080/"
        },
        "id": "NqyG1qdbOx9M",
        "outputId": "06a4f650-4ff1-4066-b642-c2b0bb8c773b"
      },
      "source": [
        "Name=input(\"text your name : \")\n",
        "print(\"Revesed text:\", Name[::-1])"
      ],
      "execution_count": 36,
      "outputs": [
        {
          "output_type": "stream",
          "text": [
            "text your name : Rahul\n",
            "Revesed text: luhaR\n"
          ],
          "name": "stdout"
        }
      ]
    },
    {
      "cell_type": "code",
      "metadata": {
        "id": "10cQ4lKheSZx"
      },
      "source": [
        ""
      ],
      "execution_count": null,
      "outputs": []
    }
  ]
}